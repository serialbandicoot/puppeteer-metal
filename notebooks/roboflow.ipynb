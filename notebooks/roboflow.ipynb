{
 "cells": [
  {
   "cell_type": "code",
   "execution_count": null,
   "metadata": {},
   "outputs": [
    {
     "data": {
      "text/plain": [
       "['vectorizer.pkl']"
      ]
     },
     "execution_count": 5,
     "metadata": {},
     "output_type": "execute_result"
    }
   ],
   "source": [
    "from sklearn.feature_extraction.text import CountVectorizer\n",
    "from sklearn.linear_model import LogisticRegression\n",
    "import joblib\n",
    "\n",
    "X = [\n",
    "    \"email\", \"username\", \"user id\", \"please enter username\", \"email address\", \"user name\",\n",
    "    \"password\", \"password123\", \"enter password\", \"please enter password\", \"user password\"\n",
    "]\n",
    "y = [\"username\", \"username\", \"username\", \"username\", \"username\", \"username\",\n",
    "     \"password\", \"password\", \"password\", \"password\", \"password\"]\n",
    "\n",
    "vectorizer = CountVectorizer()\n",
    "X_vect = vectorizer.fit_transform(X)\n",
    "\n",
    "model = LogisticRegression()\n",
    "model.fit(X_vect, y)\n",
    "\n",
    "joblib.dump(model, \"classification_model.pkl\") \n",
    "joblib.dump(vectorizer, \"vectorizer.pkl\")     "
   ]
  },
  {
   "cell_type": "code",
   "execution_count": null,
   "metadata": {},
   "outputs": [
    {
     "ename": "HTTPCallErrorError",
     "evalue": "HTTPCallErrorError(description='400 Client Error: Bad Request for url: http://localhost:9001/flerovium/workflows/auth-detection', api_message='Failed to assemble `image`. Could not successfully use any deserializer for declared kinds. Details: \nKind: `image` - Error: Detected runtime parameter `image` defined as `WorkflowImage` that is invalid. Failed on input validation. Details: NumPy image type is not supported in this configuration of `inference`.. More details: None',status_code=400)",
     "output_type": "error",
     "traceback": [
      "\u001b[0;31m---------------------------------------------------------------------------\u001b[0m",
      "\u001b[0;31mHTTPError\u001b[0m                                 Traceback (most recent call last)",
      "File \u001b[0;32m~/.local/share/virtualenvs/notebooks-4DVUI2VG/lib/python3.11/site-packages/inference_sdk/http/client.py:94\u001b[0m, in \u001b[0;36mwrap_errors.<locals>.decorate\u001b[0;34m(*args, **kwargs)\u001b[0m\n\u001b[1;32m     93\u001b[0m \u001b[38;5;28;01mtry\u001b[39;00m:\n\u001b[0;32m---> 94\u001b[0m     \u001b[38;5;28;01mreturn\u001b[39;00m \u001b[43mfunction\u001b[49m\u001b[43m(\u001b[49m\u001b[38;5;241;43m*\u001b[39;49m\u001b[43margs\u001b[49m\u001b[43m,\u001b[49m\u001b[43m \u001b[49m\u001b[38;5;241;43m*\u001b[39;49m\u001b[38;5;241;43m*\u001b[39;49m\u001b[43mkwargs\u001b[49m\u001b[43m)\u001b[49m\n\u001b[1;32m     95\u001b[0m \u001b[38;5;28;01mexcept\u001b[39;00m HTTPError \u001b[38;5;28;01mas\u001b[39;00m error:\n",
      "File \u001b[0;32m~/.local/share/virtualenvs/notebooks-4DVUI2VG/lib/python3.11/site-packages/inference_sdk/http/client.py:1118\u001b[0m, in \u001b[0;36mInferenceHTTPClient.run_workflow\u001b[0;34m(self, workspace_name, workflow_id, specification, images, parameters, excluded_fields, use_cache, enable_profiling)\u001b[0m\n\u001b[1;32m   1102\u001b[0m \u001b[38;5;250m\u001b[39m\u001b[38;5;124;03m\"\"\"\u001b[39;00m\n\u001b[1;32m   1103\u001b[0m \u001b[38;5;124;03mTriggers inference from workflow specification at the inference HTTP\u001b[39;00m\n\u001b[1;32m   1104\u001b[0m \u001b[38;5;124;03mside. Either (`workspace_name` and `workflow_id`) or `workflow_specification` must be\u001b[39;00m\n\u001b[0;32m   (...)\u001b[0m\n\u001b[1;32m   1116\u001b[0m \u001b[38;5;124;03mthe server before end of Q2 2024. Until that is done - use old method: infer_from_workflow(...).\u001b[39;00m\n\u001b[1;32m   1117\u001b[0m \u001b[38;5;124;03m\"\"\"\u001b[39;00m\n\u001b[0;32m-> 1118\u001b[0m \u001b[38;5;28;01mreturn\u001b[39;00m \u001b[38;5;28;43mself\u001b[39;49m\u001b[38;5;241;43m.\u001b[39;49m\u001b[43m_run_workflow\u001b[49m\u001b[43m(\u001b[49m\n\u001b[1;32m   1119\u001b[0m \u001b[43m    \u001b[49m\u001b[43mworkspace_name\u001b[49m\u001b[38;5;241;43m=\u001b[39;49m\u001b[43mworkspace_name\u001b[49m\u001b[43m,\u001b[49m\n\u001b[1;32m   1120\u001b[0m \u001b[43m    \u001b[49m\u001b[43mworkflow_id\u001b[49m\u001b[38;5;241;43m=\u001b[39;49m\u001b[43mworkflow_id\u001b[49m\u001b[43m,\u001b[49m\n\u001b[1;32m   1121\u001b[0m \u001b[43m    \u001b[49m\u001b[43mspecification\u001b[49m\u001b[38;5;241;43m=\u001b[39;49m\u001b[43mspecification\u001b[49m\u001b[43m,\u001b[49m\n\u001b[1;32m   1122\u001b[0m \u001b[43m    \u001b[49m\u001b[43mimages\u001b[49m\u001b[38;5;241;43m=\u001b[39;49m\u001b[43mimages\u001b[49m\u001b[43m,\u001b[49m\n\u001b[1;32m   1123\u001b[0m \u001b[43m    \u001b[49m\u001b[43mparameters\u001b[49m\u001b[38;5;241;43m=\u001b[39;49m\u001b[43mparameters\u001b[49m\u001b[43m,\u001b[49m\n\u001b[1;32m   1124\u001b[0m \u001b[43m    \u001b[49m\u001b[43mexcluded_fields\u001b[49m\u001b[38;5;241;43m=\u001b[39;49m\u001b[43mexcluded_fields\u001b[49m\u001b[43m,\u001b[49m\n\u001b[1;32m   1125\u001b[0m \u001b[43m    \u001b[49m\u001b[43mlegacy_endpoints\u001b[49m\u001b[38;5;241;43m=\u001b[39;49m\u001b[38;5;28;43;01mFalse\u001b[39;49;00m\u001b[43m,\u001b[49m\n\u001b[1;32m   1126\u001b[0m \u001b[43m    \u001b[49m\u001b[43muse_cache\u001b[49m\u001b[38;5;241;43m=\u001b[39;49m\u001b[43muse_cache\u001b[49m\u001b[43m,\u001b[49m\n\u001b[1;32m   1127\u001b[0m \u001b[43m    \u001b[49m\u001b[43menable_profiling\u001b[49m\u001b[38;5;241;43m=\u001b[39;49m\u001b[43menable_profiling\u001b[49m\u001b[43m,\u001b[49m\n\u001b[1;32m   1128\u001b[0m \u001b[43m\u001b[49m\u001b[43m)\u001b[49m\n",
      "File \u001b[0;32m~/.local/share/virtualenvs/notebooks-4DVUI2VG/lib/python3.11/site-packages/inference_sdk/http/client.py:1190\u001b[0m, in \u001b[0;36mInferenceHTTPClient._run_workflow\u001b[0;34m(self, workspace_name, workflow_id, specification, images, parameters, excluded_fields, legacy_endpoints, use_cache, enable_profiling)\u001b[0m\n\u001b[1;32m   1185\u001b[0m response \u001b[38;5;241m=\u001b[39m requests\u001b[38;5;241m.\u001b[39mpost(\n\u001b[1;32m   1186\u001b[0m     url,\n\u001b[1;32m   1187\u001b[0m     json\u001b[38;5;241m=\u001b[39mpayload,\n\u001b[1;32m   1188\u001b[0m     headers\u001b[38;5;241m=\u001b[39mDEFAULT_HEADERS,\n\u001b[1;32m   1189\u001b[0m )\n\u001b[0;32m-> 1190\u001b[0m \u001b[43mapi_key_safe_raise_for_status\u001b[49m\u001b[43m(\u001b[49m\u001b[43mresponse\u001b[49m\u001b[38;5;241;43m=\u001b[39;49m\u001b[43mresponse\u001b[49m\u001b[43m)\u001b[49m\n\u001b[1;32m   1191\u001b[0m response_data \u001b[38;5;241m=\u001b[39m response\u001b[38;5;241m.\u001b[39mjson()\n",
      "File \u001b[0;32m~/.local/share/virtualenvs/notebooks-4DVUI2VG/lib/python3.11/site-packages/inference_sdk/http/utils/requests.py:16\u001b[0m, in \u001b[0;36mapi_key_safe_raise_for_status\u001b[0;34m(response)\u001b[0m\n\u001b[1;32m     15\u001b[0m response\u001b[38;5;241m.\u001b[39murl \u001b[38;5;241m=\u001b[39m deduct_api_key_from_string(value\u001b[38;5;241m=\u001b[39mresponse\u001b[38;5;241m.\u001b[39murl)\n\u001b[0;32m---> 16\u001b[0m \u001b[43mresponse\u001b[49m\u001b[38;5;241;43m.\u001b[39;49m\u001b[43mraise_for_status\u001b[49m\u001b[43m(\u001b[49m\u001b[43m)\u001b[49m\n",
      "File \u001b[0;32m~/.local/share/virtualenvs/notebooks-4DVUI2VG/lib/python3.11/site-packages/requests/models.py:1024\u001b[0m, in \u001b[0;36mResponse.raise_for_status\u001b[0;34m(self)\u001b[0m\n\u001b[1;32m   1023\u001b[0m \u001b[38;5;28;01mif\u001b[39;00m http_error_msg:\n\u001b[0;32m-> 1024\u001b[0m     \u001b[38;5;28;01mraise\u001b[39;00m HTTPError(http_error_msg, response\u001b[38;5;241m=\u001b[39m\u001b[38;5;28mself\u001b[39m)\n",
      "\u001b[0;31mHTTPError\u001b[0m: 400 Client Error: Bad Request for url: http://localhost:9001/flerovium/workflows/auth-detection",
      "\nThe above exception was the direct cause of the following exception:\n",
      "\u001b[0;31mHTTPCallErrorError\u001b[0m                        Traceback (most recent call last)",
      "Cell \u001b[0;32mIn[4], line 8\u001b[0m\n\u001b[1;32m      1\u001b[0m \u001b[38;5;28;01mfrom\u001b[39;00m \u001b[38;5;21;01minference_sdk\u001b[39;00m \u001b[38;5;28;01mimport\u001b[39;00m InferenceHTTPClient\n\u001b[1;32m      3\u001b[0m client \u001b[38;5;241m=\u001b[39m InferenceHTTPClient(\n\u001b[1;32m      4\u001b[0m     api_url\u001b[38;5;241m=\u001b[39m\u001b[38;5;124m\"\u001b[39m\u001b[38;5;124mhttp://localhost:9001\u001b[39m\u001b[38;5;124m\"\u001b[39m, \u001b[38;5;66;03m# use local inference server\u001b[39;00m\n\u001b[1;32m      5\u001b[0m     api_key\u001b[38;5;241m=\u001b[39m\u001b[38;5;124m\"\u001b[39m\u001b[38;5;124m5lOT9R7Yj7uFZVHomdQm\u001b[39m\u001b[38;5;124m\"\u001b[39m\n\u001b[1;32m      6\u001b[0m )\n\u001b[0;32m----> 8\u001b[0m result \u001b[38;5;241m=\u001b[39m \u001b[43mclient\u001b[49m\u001b[38;5;241;43m.\u001b[39;49m\u001b[43mrun_workflow\u001b[49m\u001b[43m(\u001b[49m\n\u001b[1;32m      9\u001b[0m \u001b[43m    \u001b[49m\u001b[43mworkspace_name\u001b[49m\u001b[38;5;241;43m=\u001b[39;49m\u001b[38;5;124;43m\"\u001b[39;49m\u001b[38;5;124;43mflerovium\u001b[39;49m\u001b[38;5;124;43m\"\u001b[39;49m\u001b[43m,\u001b[49m\n\u001b[1;32m     10\u001b[0m \u001b[43m    \u001b[49m\u001b[43mworkflow_id\u001b[49m\u001b[38;5;241;43m=\u001b[39;49m\u001b[38;5;124;43m\"\u001b[39;49m\u001b[38;5;124;43mauth-detection\u001b[39;49m\u001b[38;5;124;43m\"\u001b[39;49m\u001b[43m,\u001b[49m\n\u001b[1;32m     11\u001b[0m \u001b[43m    \u001b[49m\u001b[43mimages\u001b[49m\u001b[38;5;241;43m=\u001b[39;49m\u001b[43m{\u001b[49m\n\u001b[1;32m     12\u001b[0m \u001b[43m        \u001b[49m\u001b[38;5;124;43m\"\u001b[39;49m\u001b[38;5;124;43mimage\u001b[39;49m\u001b[38;5;124;43m\"\u001b[39;49m\u001b[43m:\u001b[49m\u001b[43m \u001b[49m\u001b[38;5;124;43m\"\u001b[39;49m\u001b[38;5;124;43mYOUR_IMAGE.jpg\u001b[39;49m\u001b[38;5;124;43m\"\u001b[39;49m\n\u001b[1;32m     13\u001b[0m \u001b[43m    \u001b[49m\u001b[43m}\u001b[49m\n\u001b[1;32m     14\u001b[0m \u001b[43m)\u001b[49m\n",
      "File \u001b[0;32m~/.local/share/virtualenvs/notebooks-4DVUI2VG/lib/python3.11/site-packages/inference_sdk/http/client.py:104\u001b[0m, in \u001b[0;36mwrap_errors.<locals>.decorate\u001b[0;34m(*args, **kwargs)\u001b[0m\n\u001b[1;32m    102\u001b[0m     \u001b[38;5;28;01melse\u001b[39;00m:\n\u001b[1;32m    103\u001b[0m         api_message \u001b[38;5;241m=\u001b[39m error\u001b[38;5;241m.\u001b[39mresponse\u001b[38;5;241m.\u001b[39mtext\n\u001b[0;32m--> 104\u001b[0m     \u001b[38;5;28;01mraise\u001b[39;00m HTTPCallErrorError(\n\u001b[1;32m    105\u001b[0m         description\u001b[38;5;241m=\u001b[39m\u001b[38;5;28mstr\u001b[39m(error),\n\u001b[1;32m    106\u001b[0m         status_code\u001b[38;5;241m=\u001b[39merror\u001b[38;5;241m.\u001b[39mresponse\u001b[38;5;241m.\u001b[39mstatus_code,\n\u001b[1;32m    107\u001b[0m         api_message\u001b[38;5;241m=\u001b[39mapi_message,\n\u001b[1;32m    108\u001b[0m     ) \u001b[38;5;28;01mfrom\u001b[39;00m \u001b[38;5;21;01merror\u001b[39;00m\n\u001b[1;32m    109\u001b[0m \u001b[38;5;28;01mexcept\u001b[39;00m \u001b[38;5;167;01mConnectionError\u001b[39;00m \u001b[38;5;28;01mas\u001b[39;00m error:\n\u001b[1;32m    110\u001b[0m     \u001b[38;5;28;01mraise\u001b[39;00m HTTPClientError(\n\u001b[1;32m    111\u001b[0m         \u001b[38;5;124mf\u001b[39m\u001b[38;5;124m\"\u001b[39m\u001b[38;5;124mError with server connection: \u001b[39m\u001b[38;5;132;01m{\u001b[39;00mdeduct_api_key_from_string(\u001b[38;5;28mstr\u001b[39m(error))\u001b[38;5;132;01m}\u001b[39;00m\u001b[38;5;124m\"\u001b[39m\n\u001b[1;32m    112\u001b[0m     ) \u001b[38;5;28;01mfrom\u001b[39;00m \u001b[38;5;21;01merror\u001b[39;00m\n",
      "\u001b[0;31mHTTPCallErrorError\u001b[0m: HTTPCallErrorError(description='400 Client Error: Bad Request for url: http://localhost:9001/flerovium/workflows/auth-detection', api_message='Failed to assemble `image`. Could not successfully use any deserializer for declared kinds. Details: \nKind: `image` - Error: Detected runtime parameter `image` defined as `WorkflowImage` that is invalid. Failed on input validation. Details: NumPy image type is not supported in this configuration of `inference`.. More details: None',status_code=400)"
     ]
    }
   ],
   "source": [
    "from inference_sdk import InferenceHTTPClient\n",
    "\n",
    "client = InferenceHTTPClient(\n",
    "    api_url=\"http://localhost:9001\", \n",
    "    api_key=\"QWERTYUIOPASDFGHJKLZXCVBNM\" # replace with your API key\n",
    ")\n",
    "\n",
    "result = client.run_workflow(\n",
    "    workspace_name=\"flerovium\",\n",
    "    workflow_id=\"auth-detection\",\n",
    "    images={\n",
    "        \"image\": \"YOUR_IMAGE.jpg\"\n",
    "    }\n",
    ")"
   ]
  }
 ],
 "metadata": {
  "kernelspec": {
   "display_name": "3.11.5",
   "language": "python",
   "name": "python3"
  },
  "language_info": {
   "codemirror_mode": {
    "name": "ipython",
    "version": 3
   },
   "file_extension": ".py",
   "mimetype": "text/x-python",
   "name": "python",
   "nbconvert_exporter": "python",
   "pygments_lexer": "ipython3",
   "version": "3.11.5"
  }
 },
 "nbformat": 4,
 "nbformat_minor": 2
}
